{
 "cells": [
  {
   "cell_type": "markdown",
   "metadata": {},
   "source": [
    "# Exercise set 7: Spatial data\n",
    "\n",
    "In this exercise set you will be working with structuring and plotting spatial data. \n",
    "- Exercise 9.1: basic shapes\n",
    "- Exercise 9.2: working with Geopandas and interpolation\n",
    "- Exercise 9.3: interactive plotting with folium\n",
    "\n",
    "We begin with loading the standard packages:\n"
   ]
  },
  {
   "cell_type": "code",
   "execution_count": 1,
   "metadata": {},
   "outputs": [],
   "source": [
    "import os\n",
    "import requests\n",
    "\n",
    "import numpy as np\n",
    "import pandas as pd\n",
    "import seaborn as sns\n",
    "\n",
    "import folium\n",
    "import geopandas as gpd\n",
    "import fiona\n",
    "import shapely\n",
    "\n",
    "%matplotlib inline"
   ]
  },
  {
   "cell_type": "markdown",
   "metadata": {},
   "source": [
    "## Exercises"
   ]
  },
  {
   "cell_type": "markdown",
   "metadata": {},
   "source": [
    "### Part 9.1: Working with spatial objects \n",
    "\n",
    "This exercise will serve as a brief tutorial on spatial data. We will learn how to make spatial shape and use their basic operations."
   ]
  },
  {
   "cell_type": "markdown",
   "metadata": {},
   "source": [
    "> **Ex. 9.1.1** Make a polygon which is square that has left,lower corner in 2,2 and right,upper in 5,5. Make a triangle passing through (0,0), (4,0) and (2,4). What do they look like? Store the two polygons respectively as `square` and `triangle`\n",
    "\n",
    "> *Hint*: the submodule shapely.geometry has methods such as `Point`, `Polygon` and `Multipolygon`"
   ]
  },
  {
   "cell_type": "code",
   "execution_count": 2,
   "metadata": {},
   "outputs": [],
   "source": [
    "from shapely.geometry import Polygon"
   ]
  },
  {
   "cell_type": "code",
   "execution_count": null,
   "metadata": {},
   "outputs": [],
   "source": [
    "# [Your answer here]"
   ]
  },
  {
   "cell_type": "markdown",
   "metadata": {},
   "source": [
    "> **Ex. 6.1.2** Compute and show the spatial difference of square subtracted triangle, also show the hat is the union of `square` and `triangle`?"
   ]
  },
  {
   "cell_type": "code",
   "execution_count": null,
   "metadata": {},
   "outputs": [],
   "source": [
    "# [Your answer here]"
   ]
  },
  {
   "cell_type": "markdown",
   "metadata": {},
   "source": [
    "> **Ex. 6.1.3** Make a GeoSeries out of `square`, `triangle`. Plot the geoseries."
   ]
  },
  {
   "cell_type": "code",
   "execution_count": null,
   "metadata": {},
   "outputs": [],
   "source": [
    "# [Your answer here]"
   ]
  },
  {
   "cell_type": "markdown",
   "metadata": {},
   "source": [
    "### Part 9.2: Working with house sale prices\n",
    "\n",
    "Data on danish municipalities are available [here](https://raw.githubusercontent.com/ok-dk/dagi/master/geojson/kommuner.geojson) from Open Knowledge Denmark."
   ]
  },
  {
   "cell_type": "markdown",
   "metadata": {},
   "source": [
    "#### Basic operations with Geopandas\n",
    "\n",
    "> **Ex. 9.2.1** Load the municipalities data using `gpd.read_file()`, \n",
    "- What is the CRS of the dataframe - what projection does it correspond to? Turn the CRS into a meter based system.\n",
    "- Which three munipalities have the largest area?\n",
    "\n",
    "> Note: to find the entire area of a municipality which consists of multiple shapes (e.g. municipalities covering islands). you can use the `unary_union` method for GeoSeries."
   ]
  },
  {
   "cell_type": "code",
   "execution_count": null,
   "metadata": {},
   "outputs": [],
   "source": [
    "url = \"https://raw.githubusercontent.com/ok-dk/dagi/master/geojson/kommuner.geojson\""
   ]
  },
  {
   "cell_type": "code",
   "execution_count": null,
   "metadata": {},
   "outputs": [],
   "source": [
    "# [Your answer here]"
   ]
  },
  {
   "cell_type": "markdown",
   "metadata": {},
   "source": [
    "Use the script below to add regional information for municipalities. This code block assumes that your geodataframe is names `kommuner`."
   ]
  },
  {
   "cell_type": "code",
   "execution_count": 45,
   "metadata": {},
   "outputs": [],
   "source": [
    "kommuner.columns = kommuner.columns.str.lower()\n",
    "    \n",
    "# information for municipality\n",
    "kommune_info = pd.read_json('https://dawa.aws.dk/kommuner')\\\n",
    "                .pipe(lambda df: \\\n",
    "                        df.assign(komkode=df.kode.astype(str).str.zfill(4)))\\\n",
    "                .loc[:,['komkode','regionskode']]\\\n",
    "                \n",
    "\n",
    "region_info = pd.read_json('https://dawa.aws.dk/regioner/')\\\n",
    "                .loc[:,['kode','navn']]\\\n",
    "                .add_prefix('regions')\n",
    "\n",
    "kommuner = kommuner\\\n",
    "                .merge(kommune_info,how='left')\\\n",
    "                .merge(region_info,how='left')"
   ]
  },
  {
   "cell_type": "markdown",
   "metadata": {},
   "source": [
    "> **Ex. 9.2.2** Make two boolean series as follows. \n",
    "> - first: row is True if corresponding the row shape is in the Capital Region or Sealand Region (i.e. `'Region Hovedstaden', 'Region Sjælland'`) \n",
    "> - second: row is True if the  the row geometry is ***not*** in Bornholm or nearby (i.e. `'Bornholm', 'Christiansø'`)\n",
    "\n",
    "> Finally make a combined series which takes the value True if both holds, otherwise False and use this series to create a new geodataframe containing only mainland Sealand. \n",
    "\n",
    "\n",
    "> *Hint*: recall that we can check if a series elements are elements in a series using the `isin` method\n"
   ]
  },
  {
   "cell_type": "code",
   "execution_count": null,
   "metadata": {},
   "outputs": [],
   "source": [
    "# [Your answer here]"
   ]
  },
  {
   "cell_type": "markdown",
   "metadata": {},
   "source": [
    "> **Ex. 9.2.3** Explain what is the CRS of the GeoDataFrame. How is distance measured using this coordinate system. Extract the extremum values (min,max) in all dimensions of the sealand geodataframe. That is identify the coordinates of the corners in the smallest square covering the entire island.\n",
    "\n",
    "> *Hint*: extreme values, i.e. bounds, can be found using `.bounds` on a GeoDataFrame (also works on shapes, GeoSeries)"
   ]
  },
  {
   "cell_type": "code",
   "execution_count": null,
   "metadata": {},
   "outputs": [],
   "source": [
    "# [Your answer here]"
   ]
  },
  {
   "cell_type": "markdown",
   "metadata": {},
   "source": [
    "#### Interpolation of house prices\n",
    "\n",
    "\n",
    "In the following two exercises we aim to compute local spatial neighborhood measures of house prices in Sealand and around. We do this by making make a grid of Sealand houseprice data and using a neighborregressor to fill in data in squares that dont have any house sales. Thus the exercise will illustrate how to make a interpolation of data which is useful for feature engineering and get a good understanding of the data."
   ]
  },
  {
   "cell_type": "markdown",
   "metadata": {},
   "source": [
    "> **Ex. 9.2.4** Construct a 500mx500m grid for Sealand:\n",
    ">- Make a grid of points 500m apart in horizontal and vertical directions that are within the extremum values of Sealand's shape. Each pair $(e,n)$ in this grid should be the coordinates of the lower left corner in a 500x500 square.\n",
    ">- For each of these points construct a square polygon assuming that the point is the south west corner of the square. Do this using `cell_coords_to_polygons`.\n",
    ">- Use `gpd.sjoin` to take the intersection of the municipalities in sealand and the square grid you have constructed. Plot the resulting geodataframe.\n",
    ">\n",
    "> *Hint 1:* Once you have created the grid the following function below may be useful for converting into a GeoDataFrame. You need to specify the column names for your x and y coordinates.\n",
    ">\n",
    "> *Hint 2:* We can select the points that intersect by using a spatial join between the house locations and municipalities."
   ]
  },
  {
   "cell_type": "code",
   "execution_count": 40,
   "metadata": {},
   "outputs": [],
   "source": [
    "dk_crs = {'ellps': 'GRS80', 'no_defs': True, 'proj': 'utm', 'units': 'm', 'zone': 32}\n",
    "\n",
    "def cell_coords_to_polygons(square_df, x='e', y='n', dist=500, crs=dk_crs):\n",
    "    '''\n",
    "    Convert coordinates to squares in a GeoDataFrame.\n",
    "       \n",
    "    Parameters\n",
    "    ----------\n",
    "    x : str\n",
    "        Name of the horizontal coordinate (~longitude)            \n",
    "    y : str\n",
    "        Name of the vertical coordinate (~latitude)                        \n",
    "    dist : int or float\n",
    "        Size of polygons\n",
    "    crs : dict\n",
    "        Coordinate Reference System\n",
    "\n",
    "\n",
    "    Returns\n",
    "    ----------\n",
    "    squares_gdf: geopandas.GeoDataFrame\n",
    "        This table contains squares as geometry\n",
    "        and the original data.\n",
    "    '''\n",
    "    \n",
    "    def _to_square_polygon(row):\n",
    "        '''\n",
    "        This auxiliary function convert a square's lower,left \n",
    "        coordinates to a polygon. \n",
    "        \n",
    "        Parameters\n",
    "        ----------\n",
    "        row : pandas.Series\n",
    "            This is a DataFrame row.            \n",
    "        \n",
    "        Returns\n",
    "        ----------\n",
    "        poly: shapely.Polygon        \n",
    "        \n",
    "        '''\n",
    "        \n",
    "        square_coords = ((row[x], row[y]), \n",
    "                         (row[x]+dist, row[y]), \n",
    "                         (row[x]+dist, row[y]+dist), \n",
    "                         (row[x], row[y]+dist))\n",
    "        \n",
    "        poly = shapely.geometry.Polygon(square_coords)\n",
    "        \n",
    "        return poly\n",
    "    \n",
    "    # convert to polygons\n",
    "    square_geoms = gpd.GeoSeries(square_df.apply(_to_square_polygon, axis=1), crs=crs)\n",
    "    \n",
    "    # make GeoDataFrame\n",
    "    square_gdf = gpd.GeoDataFrame(data=square_df, geometry=square_geoms)\n",
    "    \n",
    "    return square_gdf"
   ]
  },
  {
   "cell_type": "code",
   "execution_count": null,
   "metadata": {},
   "outputs": [],
   "source": [
    "# [Your answer here]"
   ]
  },
  {
   "cell_type": "markdown",
   "metadata": {},
   "source": [
    "> **Ex. 9.2.5**  Load the pre-structured data with house sales prices for Sealand. These data are available on Absalon as a .GeoJSON file. Construct a loop that for each year in the `sale_year` column \n",
    "> - extracts the house sales sold in this year, with a square meter price (`price_area`) between between 1000 and 120000. \n",
    "> - Selects the four columns `['sale_year', 'e', 'n', 'price_area']` and drops any rows with missing data. \n",
    "> - After preparing the data fit a `KNeighborsRegressor` with the coordinate columns `e` and `n` as features and the square-meter price as labels.\n",
    "> - Computes predictions `preds` where `e`, `n` are taken from the square grid geodataframe you constructed above. Add 250 to each value to predict at the midpoint of the square!\n",
    "> - creates a new column `p_{year}` in the square-grid geodataframe, containing `np.log10(preds)`\n",
    ">\n",
    "> Plot the grid data, coloring the grids by their predicted square meter price in 2012."
   ]
  },
  {
   "cell_type": "code",
   "execution_count": 55,
   "metadata": {},
   "outputs": [],
   "source": [
    "from sklearn.neighbors import KNeighborsRegressor\n",
    "price_gdf = gpd.read_file('houseprices.GeoJSON')"
   ]
  },
  {
   "cell_type": "code",
   "execution_count": null,
   "metadata": {},
   "outputs": [],
   "source": [
    "# [Your answer here]"
   ]
  }
 ],
 "metadata": {
  "kernelspec": {
   "display_name": "Python 3",
   "language": "python",
   "name": "python3"
  },
  "language_info": {
   "codemirror_mode": {
    "name": "ipython",
    "version": 3
   },
   "file_extension": ".py",
   "mimetype": "text/x-python",
   "name": "python",
   "nbconvert_exporter": "python",
   "pygments_lexer": "ipython3",
   "version": "3.7.4"
  }
 },
 "nbformat": 4,
 "nbformat_minor": 4
}
