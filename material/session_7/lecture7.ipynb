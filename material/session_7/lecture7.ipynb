{
 "cells": [
  {
   "cell_type": "markdown",
   "metadata": {},
   "source": [
    "# Session 7: Working with spatial data and applications for econometrics\n",
    "\n",
    "By *Andreas Bjerre-Nielsen*\n",
    "\n",
    "*Note: Due to the sudden demand for remote learning, we are experimenting with different ways of creating a good\n",
    "remote learning experience. Therefore your feedback and suggestions are encouraged. You can give feedback\n",
    "by reaching out to a teacher. This notebook contains a mix of relevant questions and mini lectures interweaved. It is important to note that we will probably iterate on this format, so we ask for your patience when we mess up.*\n",
    "\n",
    "\n",
    "\n",
    "#### Agenda\n",
    "\n",
    "In the lecture we will cover the following points.\n",
    "\n",
    "1. [Spatial data fundamentals](#Part-1:-Spatial-data-fundamentals)\n",
    "    - [Introduction and motivation](#Introduction-and-motivation)\n",
    "    - [Geometric shapes in 2d](#Geometric-shapes-in-2d)    \n",
    "    - [Measurement for spatial data](#Measurement-for-spatial-data)    \n",
    "1. [Structuring spatial data: Geopandas](#Part-2:-Structuring-spatial-data:-Geopandas)\n",
    "    - [Spatial data structures](#Spatial-data-structures)\n",
    "    - [Map making](#Map-making)    \n",
    "    - [Spatial operations](#Spatial-operations)\n",
    "    - [Interpolation of spatial data](#Spatial-interpolation)\n",
    "1. Spatial data applications\n",
    "\n",
    "#### Spatial Python packages\n",
    "\n",
    "Use conda to install the following packages through anaconda prompt/terminal\n",
    "```\n",
    "conda install geopandas descartes\n",
    "conda install -c conda-forge folium\n",
    "```\n"
   ]
  },
  {
   "cell_type": "markdown",
   "metadata": {
    "slideshow": {
     "slide_type": "slide"
    }
   },
   "source": [
    "<br><br><br>\n",
    "\n",
    "# Part 1: Spatial data fundamentals\n",
    "\n",
    "#### Introduction and motivation \n",
    "\n",
    "We start out with a short introduction to the subject and provide some applications of spatial data."
   ]
  },
  {
   "cell_type": "code",
   "execution_count": null,
   "metadata": {},
   "outputs": [],
   "source": [
    "from IPython.display import YouTubeVideo\n",
    "YouTubeVideo('GWiAafFMfy4', width=640, height=360)"
   ]
  },
  {
   "cell_type": "markdown",
   "metadata": {},
   "source": [
    "#### Geometric shapes in 2d\n",
    "\n",
    "Often we learn best when we do things ourselves therefore we start with a brief tutorial. We all have an intuitive understanding of spatial shapes including classic, two dimensional shapes  such as lines, circles, squares etc. These spatial shapes, and many more, can be created from some from generic geometric objects. There are four essential ones:\n",
    "- Point\n",
    "- LineString\n",
    "- Polygon \n",
    "- Multipolygon\n",
    "    \n",
    "We load them in Python using `shapely.geometry` and we describe them in detail below."
   ]
  },
  {
   "cell_type": "code",
   "execution_count": 1,
   "metadata": {},
   "outputs": [],
   "source": [
    "from shapely.geometry import Point, LineString, Polygon, MultiPolygon"
   ]
  },
  {
   "cell_type": "markdown",
   "metadata": {},
   "source": [
    "We also load standard packages and some new spatial ones (see installation guide above)."
   ]
  },
  {
   "cell_type": "code",
   "execution_count": 2,
   "metadata": {},
   "outputs": [],
   "source": [
    "import numpy as np\n",
    "import pandas as pd\n",
    "import seaborn as sns\n",
    "\n",
    "%matplotlib inline\n",
    "\n",
    "# spatial stuff\n",
    "import geopandas as gpd\n",
    "import fiona\n",
    "import folium\n",
    "import shapely\n",
    "\n",
    "def convert_to_danish_crs(df):\n",
    "    df.to_crs(epsg=25832, inplace=True)"
   ]
  },
  {
   "cell_type": "markdown",
   "metadata": {},
   "source": [
    "We now want to see how to use the geometric objects. \n",
    "\n",
    "Since points are obvious, we start with `LineString` objects. These are sequences of points that are not required to begin and end in the same point. Between each pair of consecutive points a line is drawn. Execute the code below to see an example."
   ]
  },
  {
   "cell_type": "code",
   "execution_count": 16,
   "metadata": {},
   "outputs": [
    {
     "data": {
      "image/svg+xml": [
       "<svg xmlns=\"http://www.w3.org/2000/svg\" xmlns:xlink=\"http://www.w3.org/1999/xlink\" width=\"100.0\" height=\"100.0\" viewBox=\"-0.08 -0.08 2.16 2.16\" preserveAspectRatio=\"xMinYMin meet\"><g transform=\"matrix(1,0,0,-1,0,2.0)\"><polyline fill=\"none\" stroke=\"#66cc99\" stroke-width=\"0.0432\" points=\"0.0,0.0 2.0,0.0 1.0,2.0\" opacity=\"0.8\" /></g></svg>"
      ],
      "text/plain": [
       "<shapely.geometry.linestring.LineString at 0x239915d5208>"
      ]
     },
     "execution_count": 16,
     "metadata": {},
     "output_type": "execute_result"
    }
   ],
   "source": [
    "line_coords = np.array([(0,0),(2,0),(1,2)])\n",
    "\n",
    "LineString(line_coords)"
   ]
  },
  {
   "cell_type": "markdown",
   "metadata": {},
   "source": [
    "We move on to making a triangle using a `Polygon` object. To make the polygon we use the same line coordinates from above. The Polygon requires that the sequence has the same beginning and end, so a final line between [0,0] and [1,2] is added. Execute the code below to see an example."
   ]
  },
  {
   "cell_type": "code",
   "execution_count": 17,
   "metadata": {},
   "outputs": [
    {
     "data": {
      "image/svg+xml": [
       "<svg xmlns=\"http://www.w3.org/2000/svg\" xmlns:xlink=\"http://www.w3.org/1999/xlink\" width=\"100.0\" height=\"100.0\" viewBox=\"-0.08 -0.08 2.16 2.16\" preserveAspectRatio=\"xMinYMin meet\"><g transform=\"matrix(1,0,0,-1,0,2.0)\"><path fill-rule=\"evenodd\" fill=\"#66cc99\" stroke=\"#555555\" stroke-width=\"0.0432\" opacity=\"0.6\" d=\"M 0.0,0.0 L 2.0,0.0 L 1.0,2.0 L 0.0,0.0 z\" /></g></svg>"
      ],
      "text/plain": [
       "<shapely.geometry.polygon.Polygon at 0x23991264808>"
      ]
     },
     "execution_count": 17,
     "metadata": {},
     "output_type": "execute_result"
    }
   ],
   "source": [
    "triangle = Polygon(line_coords)\n",
    "triangle"
   ]
  },
  {
   "cell_type": "markdown",
   "metadata": {},
   "source": [
    "The final geometric object is a `MultiPolygon`. This object can contain one or more points, line strings and polygons. Note it can also contain an interior in polygons, e.g. like a courtyard within a building. Execute the code below to see an example."
   ]
  },
  {
   "cell_type": "code",
   "execution_count": 18,
   "metadata": {},
   "outputs": [
    {
     "data": {
      "image/svg+xml": [
       "<svg xmlns=\"http://www.w3.org/2000/svg\" xmlns:xlink=\"http://www.w3.org/1999/xlink\" width=\"100.0\" height=\"100.0\" viewBox=\"-0.16 -0.16 4.32 2.3200000000000003\" preserveAspectRatio=\"xMinYMin meet\"><g transform=\"matrix(1,0,0,-1,0,2.0)\"><g><path fill-rule=\"evenodd\" fill=\"#66cc99\" stroke=\"#555555\" stroke-width=\"0.0864\" opacity=\"0.6\" d=\"M 0.0,0.0 L 2.0,0.0 L 1.0,2.0 L 0.0,0.0 z\" /><path fill-rule=\"evenodd\" fill=\"#66cc99\" stroke=\"#555555\" stroke-width=\"0.0864\" opacity=\"0.6\" d=\"M 3.0,0.0 L 3.0,1.0 L 4.0,1.0 L 4.0,0.0 L 3.0,0.0 z\" /></g></g></svg>"
      ],
      "text/plain": [
       "<shapely.geometry.multipolygon.MultiPolygon at 0x2399128d408>"
      ]
     },
     "execution_count": 18,
     "metadata": {},
     "output_type": "execute_result"
    }
   ],
   "source": [
    "square = Polygon(np.array([[3,0],[3,1],[4,1],[4,0]]))\n",
    "\n",
    "MultiPolygon([triangle, square])"
   ]
  },
  {
   "cell_type": "markdown",
   "metadata": {},
   "source": [
    "#### Measurement for spatial data\n",
    "\n",
    "The above tutorial gave a basic understanding of using geometric objects in a coordinate space. The video below gives a brief introduction to what such coordinate systems capture."
   ]
  },
  {
   "cell_type": "code",
   "execution_count": null,
   "metadata": {},
   "outputs": [],
   "source": [
    "from IPython.display import YouTubeVideo\n",
    "YouTubeVideo('fewTYGENHeA', width=640, height=360)"
   ]
  },
  {
   "cell_type": "markdown",
   "metadata": {},
   "source": [
    "#### Exercises\n",
    "\n",
    "Here are some questions to make ensure you've grasped key points from lectures and/or readings. \n",
    "\n",
    "1. Explain how the  four generic geometric objects work and give an example of what spatial shapes they may contain.\n",
    "1. Try modifying `n_points` in the code below by increasing it to 5, 6, 10, 20, 100. What happens to the displayed polygon - how is it changing? \n",
    "1. List two common coordinates reference systems (CRS) - one used in Denmark one used globally. Account for different properties CRS may have."
   ]
  },
  {
   "cell_type": "code",
   "execution_count": null,
   "metadata": {},
   "outputs": [],
   "source": [
    "n_points = 4\n",
    "range_points = np.linspace(0, 2*np.pi, n_points)\n",
    "unit_circle_points = [(np.cos(d),np.sin(d)) for d in range_points]\n",
    "Polygon(unit_circle_points)"
   ]
  },
  {
   "cell_type": "markdown",
   "metadata": {
    "slideshow": {
     "slide_type": "slide"
    }
   },
   "source": [
    "<br><br><br>\n",
    "\n",
    "# Part 2: Structuring spatial data: Geopandas\n",
    "#### Spatial data structures\n",
    "\n",
    "An extension of `pandas` is called `geopandas` that comes with a suite of useful methods and data structures for spatial data. I talk about it in the video below."
   ]
  },
  {
   "cell_type": "code",
   "execution_count": null,
   "metadata": {},
   "outputs": [],
   "source": [
    "YouTubeVideo('vuxCmkKiRXs', width=640, height=360)"
   ]
  },
  {
   "cell_type": "markdown",
   "metadata": {},
   "source": [
    "#### Map making\n",
    "When we have loaded in spatial data we can plot it naturally like a map. The video below shows how to make simple plots using geopandas. Plots can also be made interactiv and zoomable using a package called `folium`."
   ]
  },
  {
   "cell_type": "code",
   "execution_count": null,
   "metadata": {},
   "outputs": [],
   "source": [
    "YouTubeVideo('0g1cO2XN9VA', width=640, height=360)"
   ]
  },
  {
   "cell_type": "markdown",
   "metadata": {},
   "source": [
    "#### Spatial operations \n",
    "We can perform various operations and procedures on spatial objects. For instance we can measure the (shortest) distance between points, whether they overlap etc."
   ]
  },
  {
   "cell_type": "code",
   "execution_count": null,
   "metadata": {},
   "outputs": [],
   "source": [
    "YouTubeVideo('4LGrecKjnNA', width=640, height=360)"
   ]
  },
  {
   "cell_type": "markdown",
   "metadata": {},
   "source": [
    "#### Spatial interpolation\n",
    "One standard use of spatial data is to compute various local measures, e.g. socioeconomic status, crime, etc. How should we aggregate data, e.g. individauls' socioeconomic status, crime events."
   ]
  },
  {
   "cell_type": "code",
   "execution_count": null,
   "metadata": {},
   "outputs": [],
   "source": [
    "YouTubeVideo('T0NSkLQPnws', width=640, height=360)"
   ]
  },
  {
   "cell_type": "markdown",
   "metadata": {},
   "source": [
    "#### Exercises\n",
    "\n",
    "We round off this part on structuring spatial data with a few exercises and questions.\n",
    "\n",
    "1. Explain what is the difference between an ordinary `DataFrame` vs a `GeoDataFrame`. What new properties, columns are different?\n",
    "1. Load the world_countries dataset (named *naturalearth_lowres*) that comes with `geopandas`. Select the African continent and plot it.\n",
    "1. Suppose you have two evenly sized circles that partially overlaps. Make a drawing by hand of the union, intersection and difference (subtracting the left most from the right most).\n",
    "1. Suppose you are the secret police and have access to two datasets on a criminal organization: 1) location data on  from GPS for individuals over time 2) data on buildings where the criminals from the organization frequently meet. Explain how you can use geopandas to find out who are more likely among the individauls to be part of the criminal organization.\n",
    "1. Play around with the voronoi plot function below - explain the relationship between 1-nearest neighbor and Voronoi plots. What happens if we use two or more neighbors?"
   ]
  },
  {
   "cell_type": "code",
   "execution_count": 4,
   "metadata": {},
   "outputs": [
    {
     "data": {
      "image/png": "[encoded data removed]",
      "text/plain": [
       "<Figure size 864x432 with 2 Axes>"
      ]
     },
     "metadata": {
      "needs_background": "light"
     },
     "output_type": "display_data"
    }
   ],
   "source": [
    "from voronoi import make_vor_plot\n",
    "make_vor_plot()"
   ]
  },
  {
   "cell_type": "markdown",
   "metadata": {
    "slideshow": {
     "slide_type": "slide"
    }
   },
   "source": [
    "<br><br><br>\n",
    "\n",
    "# Part 3: Spatial data for econometrics\n",
    "\n",
    "We finish the lecture by reviewing some econometric methods for using spatial data. We review three ways below; boundary discontinuites, quasi experiments and spatial econometrics.\n",
    "\n",
    "#### Boundary discontinuity design\n",
    "\n",
    "In this mini lecture we investigate how administrative boundaries can be can be cast as a regression discontinuity problem. This in turn allow us to make causal claims."
   ]
  },
  {
   "cell_type": "code",
   "execution_count": null,
   "metadata": {},
   "outputs": [],
   "source": [
    "YouTubeVideo('t5hhbne7GS8', width=640, height=360)"
   ]
  },
  {
   "cell_type": "markdown",
   "metadata": {},
   "source": [
    "#### Quasi experiments with spatial data\n",
    "We now move onto another way of using our econometric toolbox in conjunction with local spatial variation which allows to have other ways of establishing causal mechanisms."
   ]
  },
  {
   "cell_type": "code",
   "execution_count": null,
   "metadata": {},
   "outputs": [],
   "source": [
    "YouTubeVideo('AVIwKHKeo_o', width=640, height=360)"
   ]
  },
  {
   "cell_type": "markdown",
   "metadata": {},
   "source": [
    "#### Spatial econometrics\n",
    "\n",
    "We round off with spatial econometrics and review some of the issues it faces. "
   ]
  },
  {
   "cell_type": "code",
   "execution_count": null,
   "metadata": {},
   "outputs": [],
   "source": [
    "YouTubeVideo('CNwug2bzf5k', width=640, height=360)"
   ]
  },
  {
   "cell_type": "markdown",
   "metadata": {},
   "source": [
    "#### Exercises\n",
    "1. Gauge whether the assumption of selection unobservable hold for households across municipal and school disctrict boundaries.\n",
    "1. Argue to what extend policies to curb coronavirus outbreak could be identified. Could the data on spreading be used in other ways as a natural experiment?\n",
    "1. Describe why spatial econometrics may lead to biased estimates.\n",
    "  - Note: it may be an advantage to revisit this question after we have covered peer effects."
   ]
  }
 ],
 "metadata": {
  "kernelspec": {
   "display_name": "Python 3",
   "language": "python",
   "name": "python3"
  },
  "language_info": {
   "codemirror_mode": {
    "name": "ipython",
    "version": 3
   },
   "file_extension": ".py",
   "mimetype": "text/x-python",
   "name": "python",
   "nbconvert_exporter": "python",
   "pygments_lexer": "ipython3",
   "version": "3.7.4"
  }
 },
 "nbformat": 4,
 "nbformat_minor": 4
}
